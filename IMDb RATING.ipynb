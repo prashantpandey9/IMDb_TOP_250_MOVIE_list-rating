{
 "cells": [
  {
   "cell_type": "code",
   "execution_count": 11,
   "metadata": {},
   "outputs": [
    {
     "name": "stdout",
     "output_type": "stream",
     "text": [
      "MOVIE_LIST ['The Shawshank Redemption', 'The Godfather', 'The Godfather: Part II', 'The Dark Knight', '12 Angry Men', \"Schindler's List\", 'The Lord of the Rings: The Return of the King', 'Pulp Fiction', 'Il buono, il brutto, il cattivo', 'The Lord of the Rings: The Fellowship of the Ring', 'Fight Club', 'Forrest Gump', 'Inception', 'Star Wars: Episode V - The Empire Strikes Back', 'The Lord of the Rings: The Two Towers', 'The Matrix', 'Goodfellas', \"One Flew Over the Cuckoo's Nest\", 'Shichinin no samurai', 'Se7en', 'La vita è bella', 'Cidade de Deus', 'The Silence of the Lambs', \"It's a Wonderful Life\", 'Star Wars', 'Gisaengchung', 'Saving Private Ryan', 'Sen to Chihiro no kamikakushi', 'The Green Mile', 'Interstellar', 'Léon', 'The Usual Suspects', 'Seppuku', 'The Lion King', 'American History X', 'The Pianist', 'Terminator 2: Judgment Day', 'Back to the Future', 'Modern Times', 'Psycho', 'Gladiator', 'City Lights', 'The Departed', 'The Intouchables', 'Whiplash', 'The Prestige', 'Once Upon a Time in the West', 'Hotaru no haka', 'Casablanca', 'Joker', 'Rear Window', 'Nuovo Cinema Paradiso', 'Alien', 'Apocalypse Now', 'Memento', 'Raiders of the Lost Ark', 'The Great Dictator', 'The Lives of Others', 'Django Unchained', 'Paths of Glory', 'The Shining', 'Avengers: Infinity War', 'WALL·E', 'Sunset Blvd.', 'Anand', 'Spider-Man: Into the Spider-Verse', 'Mononoke-hime', 'Dr. Strangelove or: How I Learned to Stop Worrying and Love the Bomb', 'Oldeuboi', 'Witness for the Prosecution', 'Avengers: Endgame', 'The Dark Knight Rises', 'Once Upon a Time in America', 'Aliens', 'Kimi no na wa.', 'Coco', 'American Beauty', 'Braveheart', 'Das Boot', '3 Idiots', 'Toy Story', 'Tengoku to jigoku', '1917', 'Taare Zameen Par', 'Star Wars: Episode VI - Return of the Jedi', 'Amadeus', 'Reservoir Dogs', 'Inglourious Basterds', 'Good Will Hunting', '2001: A Space Odyssey', 'Vertigo', 'Requiem for a Dream', 'M - Eine Stadt sucht einen Mörder', 'Dangal', 'Eternal Sunshine of the Spotless Mind', 'Citizen Kane', 'Jagten', 'Capharnaüm', 'Full Metal Jacket', 'North by Northwest', 'A Clockwork Orange', 'Ladri di biciclette', 'The Kid', 'Snatch', \"Singin' in the Rain\", 'Scarface', 'Taxi Driver', 'Amélie', 'Lawrence of Arabia', 'The Sting', 'Toy Story 3', 'Metropolis', 'Ikiru', 'Per qualche dollaro in più', 'Jodaeiye Nader az Simin', 'Double Indemnity', 'The Apartment', 'Incendies', 'To Kill a Mockingbird', 'Indiana Jones and the Last Crusade', 'Up', 'L.A. Confidential', 'Heat', 'Monty Python and the Holy Grail', 'Rashômon', 'Die Hard', 'Yôjinbô', 'Batman Begins', 'Idi i smotri', 'Green Book', 'Bacheha-Ye aseman', 'Der Untergang', 'Unforgiven', 'Some Like It Hot', 'Hauru no ugoku shiro', 'Ran', 'The Great Escape', 'All About Eve', 'A Beautiful Mind', 'Casino', \"Pan's Labyrinth\", 'Tonari no Totoro', 'El secreto de sus ojos', 'Lock, Stock and Two Smoking Barrels', 'Raging Bull', 'The Wolf of Wall Street', 'The Treasure of the Sierra Madre', 'Judgment at Nuremberg', 'There Will Be Blood', 'Babam ve Oglum', 'Three Billboards Outside Ebbing, Missouri', 'The Gold Rush', 'Chinatown', 'Dial M for Murder', 'V for Vendetta', 'Det sjunde inseglet', 'No Country for Old Men', 'Inside Out', 'Warrior', 'Shutter Island', 'Trainspotting', 'The Elephant Man', 'The Sixth Sense', 'The Thing', 'Gone with the Wind', 'Room', 'Jurassic Park', 'Smultronstället', 'Blade Runner', 'The Bridge on the River Kwai', 'Finding Nemo', 'Stalker', 'On the Waterfront', 'The Third Man', 'Fargo', 'Kill Bill: Vol. 1', 'The Truman Show', 'Gran Torino', 'Tôkyô monogatari', 'The Deer Hunter', 'Salinui chueok', 'Relatos salvajes', 'Klaus', 'Andhadhun', 'Eskiya', 'The Big Lebowski', 'Mary and Max', 'In the Name of the Father', 'Gone Girl', 'Hacksaw Ridge', 'To Be or Not to Be', 'The Grand Budapest Hotel', 'Ford v. Ferrari', 'Persona', 'Before Sunrise', 'Catch Me If You Can', 'How to Train Your Dragon', 'The General', 'Mr. Smith Goes to Washington', 'Sherlock Jr.', 'Prisoners', '12 Years a Slave', 'Cool Hand Luke', 'Mad Max: Fury Road', 'Barry Lyndon', 'Network', 'Stand by Me', 'Le salaire de la peur', 'Into the Wild', 'Million Dollar Baby', 'Life of Brian', \"Hachi: A Dog's Tale\", 'Platoon', 'Ben-Hur', 'Rush', \"La passion de Jeanne d'Arc\", 'Logan', 'Dead Poets Society', 'Harry Potter and the Deathly Hallows: Part 2', 'Andrei Rublev', 'Les quatre cents coups', 'Hotel Rwanda', 'Amores perros', 'Rang De Basanti', 'Spotlight', 'Kaze no tani no Naushika', 'Ah-ga-ssi', 'Portrait de la jeune fille en feu', 'Rocky', 'Rebecca', 'Monsters, Inc.', 'La haine', 'It Happened One Night', 'Gangs of Wasseypur', 'Faa yeung nin wa', 'Before Sunset', 'The Princess Bride', 'The Help', 'Paris, Texas', 'Contratiempo', 'Drishyam', 'The Terminator', 'Ace in the Hole', 'Kis Uykusu', 'Lagaan: Once Upon a Time in India', 'Butch Cassidy and the Sundance Kid', 'Aladdin', 'PK', 'Akira', 'Kumonosu-jô'] \n",
      "\n",
      "RELESE_YEAR ['(1994)', '(1972)', '(1974)', '(2008)', '(1957)', '(1993)', '(2003)', '(1994)', '(1966)', '(2001)', '(1999)', '(1994)', '(2010)', '(1980)', '(2002)', '(1999)', '(1990)', '(1975)', '(1954)', '(1995)', '(1997)', '(2002)', '(1991)', '(1946)', '(1977)', '(2019)', '(1998)', '(2001)', '(1999)', '(2014)', '(1994)', '(1995)', '(1962)', '(1994)', '(1998)', '(2002)', '(1991)', '(1985)', '(1936)', '(1960)', '(2000)', '(1931)', '(2006)', '(2011)', '(2014)', '(2006)', '(1968)', '(1988)', '(1942)', '(2019)', '(1954)', '(1988)', '(1979)', '(1979)', '(2000)', '(1981)', '(1940)', '(2006)', '(2012)', '(1957)', '(1980)', '(2018)', '(2008)', '(1950)', '(1971)', '(2018)', '(1997)', '(1964)', '(2003)', '(1957)', '(2019)', '(2012)', '(1984)', '(1986)', '(2016)', '(2017)', '(1999)', '(1995)', '(1981)', '(2009)', '(1995)', '(1963)', '(2019)', '(2007)', '(1983)', '(1984)', '(1992)', '(2009)', '(1997)', '(1968)', '(1958)', '(2000)', '(1931)', '(2016)', '(2004)', '(1941)', '(2012)', '(2018)', '(1987)', '(1959)', '(1971)', '(1948)', '(1921)', '(2000)', '(1952)', '(1983)', '(1976)', '(2001)', '(1962)', '(1973)', '(2010)', '(1927)', '(1952)', '(1965)', '(2011)', '(1944)', '(1960)', '(2010)', '(1962)', '(1989)', '(2009)', '(1997)', '(1995)', '(1975)', '(1950)', '(1988)', '(1961)', '(2005)', '(1985)', '(2018)', '(1997)', '(2004)', '(1992)', '(1959)', '(2004)', '(1985)', '(1963)', '(1950)', '(2001)', '(1995)', '(2006)', '(1988)', '(2009)', '(1998)', '(1980)', '(2013)', '(1948)', '(1961)', '(2007)', '(2005)', '(2017)', '(1925)', '(1974)', '(1954)', '(2005)', '(1957)', '(2007)', '(2015)', '(2011)', '(2010)', '(1996)', '(1980)', '(1999)', '(1982)', '(1939)', '(2015)', '(1993)', '(1957)', '(1982)', '(1957)', '(2003)', '(1979)', '(1954)', '(1949)', '(1996)', '(2003)', '(1998)', '(2008)', '(1953)', '(1978)', '(2003)', '(2014)', '(2019)', '(2018)', '(1996)', '(1998)', '(2009)', '(1993)', '(2014)', '(2016)', '(1942)', '(2014)', '(2019)', '(1966)', '(1995)', '(2002)', '(2010)', '(1926)', '(1939)', '(1924)', '(2013)', '(2013)', '(1967)', '(2015)', '(1975)', '(1976)', '(1986)', '(1953)', '(2007)', '(2004)', '(1979)', '(2009)', '(1986)', '(1959)', '(2013)', '(1928)', '(2017)', '(1989)', '(2011)', '(1966)', '(1959)', '(2004)', '(2000)', '(2006)', '(2015)', '(1984)', '(2016)', '(2019)', '(1976)', '(1940)', '(2001)', '(1995)', '(1934)', '(2012)', '(2000)', '(2004)', '(1987)', '(2011)', '(1984)', '(2016)', '(2015)', '(1984)', '(1951)', '(2014)', '(2001)', '(1969)', '(1992)', '(2014)', '(1988)', '(1957)'] \n",
      "\n",
      "MOVIE_RATING ['9.2', '9.1', '9.0', '9.0', '8.9', '8.9', '8.9', '8.8', '8.8', '8.8', '8.8', '8.8', '8.7', '8.7', '8.7', '8.6', '8.6', '8.6', '8.6', '8.6', '8.6', '8.6', '8.6', '8.6', '8.6', '8.5', '8.5', '8.5', '8.5', '8.5', '8.5', '8.5', '8.5', '8.5', '8.5', '8.5', '8.5', '8.5', '8.5', '8.5', '8.5', '8.5', '8.5', '8.5', '8.5', '8.5', '8.5', '8.4', '8.4', '8.4', '8.4', '8.4', '8.4', '8.4', '8.4', '8.4', '8.4', '8.4', '8.4', '8.4', '8.4', '8.4', '8.4', '8.4', '8.4', '8.4', '8.4', '8.4', '8.4', '8.4', '8.3', '8.3', '8.3', '8.3', '8.3', '8.3', '8.3', '8.3', '8.3', '8.3', '8.3', '8.3', '8.3', '8.3', '8.3', '8.3', '8.3', '8.3', '8.3', '8.3', '8.3', '8.3', '8.3', '8.3', '8.3', '8.3', '8.3', '8.3', '8.3', '8.3', '8.2', '8.2', '8.2', '8.2', '8.2', '8.2', '8.2', '8.2', '8.2', '8.2', '8.2', '8.2', '8.2', '8.2', '8.2', '8.2', '8.2', '8.2', '8.2', '8.2', '8.2', '8.2', '8.2', '8.2', '8.2', '8.2', '8.2', '8.2', '8.2', '8.2', '8.2', '8.2', '8.2', '8.2', '8.2', '8.2', '8.2', '8.2', '8.2', '8.2', '8.2', '8.2', '8.2', '8.2', '8.2', '8.2', '8.1', '8.1', '8.1', '8.1', '8.1', '8.1', '8.1', '8.1', '8.1', '8.1', '8.1', '8.1', '8.1', '8.1', '8.1', '8.1', '8.1', '8.1', '8.1', '8.1', '8.1', '8.1', '8.1', '8.1', '8.1', '8.1', '8.1', '8.1', '8.1', '8.1', '8.1', '8.1', '8.1', '8.1', '8.1', '8.1', '8.1', '8.1', '8.1', '8.1', '8.1', '8.1', '8.1', '8.1', '8.1', '8.1', '8.1', '8.1', '8.1', '8.1', '8.1', '8.1', '8.1', '8.1', '8.1', '8.1', '8.1', '8.1', '8.1', '8.1', '8.1', '8.1', '8.1', '8.1', '8.1', '8.1', '8.1', '8.1', '8.1', '8.1', '8.0', '8.0', '8.0', '8.0', '8.0', '8.0', '8.0', '8.0', '8.0', '8.0', '8.0', '8.0', '8.0', '8.0', '8.0', '8.0', '8.0', '8.0', '8.0', '8.0', '8.0', '8.0', '8.0', '8.0', '8.0', '8.0', '8.0', '8.0', '8.0', '8.0', '8.0', '8.0', '8.0', '8.0'] \n",
      "\n"
     ]
    }
   ],
   "source": [
    "import json\n",
    "from bs4 import BeautifulSoup\n",
    "import requests\n",
    "url=\"https://www.imdb.com/chart/top/?sort=rk,asc&mode=simple&page=1\" #URL for movies\n",
    "e=requests.get(url)\n",
    "q=BeautifulSoup(e.text,'html')\n",
    "p1=q.find_all(\"td\",class_=\"titleColumn\")\n",
    "p2=q.find_all(\"span\",class_=\"secondaryInfo\")\n",
    "p3 =q.find_all('td',class_=\"ratingColumn imdbRating\")\n",
    "movie=[j.text  for n in p1 for j in n.find_all('a')]\n",
    "year=[v.text.strip() for v in p2]\n",
    "rating=[i.text.strip() for i in p3]\n",
    "print(\"MOVIE_LIST\",movie,\"\\n\")\n",
    "print(\"RELESE_YEAR\",year,\"\\n\")\n",
    "print(\"MOVIE_RATING\",rating,'\\n')"
   ]
  },
  {
   "cell_type": "code",
   "execution_count": 7,
   "metadata": {},
   "outputs": [],
   "source": [
    "def crawl():\n",
    "    url=\"https://www.imdb.com/chart/top/?sort=rk,asc&mode=simple&page=1\" #URL for movies\n",
    "    e=requests.get(url)\n",
    "    q=BeautifulSoup(e.text,'html')\n",
    "    p1=q.find_all(\"td\",class_=\"titleColumn\")\n",
    "    p2=q.find_all(\"span\",class_=\"secondaryInfo\")\n",
    "    p3 =q.find_all('td',class_=\"ratingColumn imdbRating\")\n",
    "    movie=[j.text  for n in p1 for j in n.find_all('a')]\n",
    "    year=[v.text.strip() for v in p2]\n",
    "    rating=[i.text.strip() for i in p3]\n",
    "    serial=1\n",
    "    dic={}\n",
    "    for j in range(len(movie)):\n",
    "        dic[serial]={\"Movie_name\":movie[j],\"Release_year\":year[0],\"IMDb_Rating\":rating[0]}\n",
    "        serial+=1\n",
    "\n",
    "    with open('IMDB.json', 'w') as json_file:\n",
    "       json.dump(dic, json_file)"
   ]
  },
  {
   "cell_type": "code",
   "execution_count": 8,
   "metadata": {},
   "outputs": [],
   "source": [
    "crawl() # function call"
   ]
  },
  {
   "cell_type": "code",
   "execution_count": null,
   "metadata": {},
   "outputs": [],
   "source": []
  },
  {
   "cell_type": "code",
   "execution_count": null,
   "metadata": {},
   "outputs": [],
   "source": []
  }
 ],
 "metadata": {
  "kernelspec": {
   "display_name": "Python 3",
   "language": "python",
   "name": "python3"
  },
  "language_info": {
   "codemirror_mode": {
    "name": "ipython",
    "version": 3
   },
   "file_extension": ".py",
   "mimetype": "text/x-python",
   "name": "python",
   "nbconvert_exporter": "python",
   "pygments_lexer": "ipython3",
   "version": "3.6.9"
  }
 },
 "nbformat": 4,
 "nbformat_minor": 4
}
